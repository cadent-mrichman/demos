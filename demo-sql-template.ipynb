{
 "cells": [
  {
   "cell_type": "markdown",
   "metadata": {},
   "source": [
    "# SQL string template demo"
   ]
  },
  {
   "cell_type": "code",
   "execution_count": 1,
   "metadata": {},
   "outputs": [],
   "source": [
    "import athena"
   ]
  },
  {
   "cell_type": "markdown",
   "metadata": {},
   "source": [
    "## Write query template to disk"
   ]
  },
  {
   "cell_type": "code",
   "execution_count": 2,
   "metadata": {},
   "outputs": [],
   "source": [
    "%%bash\n",
    "\n",
    "cat > example.sql <<EOF\n",
    "select\n",
    "    *\n",
    "from default.ds_alldem_union\n",
    "where network = '{network}'\n",
    "limit 5\n",
    "EOF"
   ]
  },
  {
   "cell_type": "code",
   "execution_count": 3,
   "metadata": {},
   "outputs": [
    {
     "name": "stdout",
     "output_type": "stream",
     "text": [
      "select\n",
      "    *\n",
      "from default.ds_alldem_union\n",
      "where network = '{network}'\n",
      "limit 5\n"
     ]
    }
   ],
   "source": [
    "! cat example.sql"
   ]
  },
  {
   "cell_type": "markdown",
   "metadata": {},
   "source": [
    "## Read and fill in template"
   ]
  },
  {
   "cell_type": "code",
   "execution_count": 4,
   "metadata": {},
   "outputs": [
    {
     "name": "stdout",
     "output_type": "stream",
     "text": [
      "select\n",
      "    *\n",
      "from default.ds_alldem_union\n",
      "where network = 'BRVO'\n",
      "limit 5\n",
      "\n"
     ]
    }
   ],
   "source": [
    "kw = dict(network='BRVO')\n",
    "q = open('example.sql').read().format(**kw)\n",
    "print(q)"
   ]
  },
  {
   "cell_type": "markdown",
   "metadata": {},
   "source": [
    "## Run query"
   ]
  },
  {
   "cell_type": "code",
   "execution_count": 5,
   "metadata": {},
   "outputs": [
    {
     "data": {
      "text/html": [
       "<div>\n",
       "<style scoped>\n",
       "    .dataframe tbody tr th:only-of-type {\n",
       "        vertical-align: middle;\n",
       "    }\n",
       "\n",
       "    .dataframe tbody tr th {\n",
       "        vertical-align: top;\n",
       "    }\n",
       "\n",
       "    .dataframe thead th {\n",
       "        text-align: right;\n",
       "    }\n",
       "</style>\n",
       "<table border=\"1\" class=\"dataframe\">\n",
       "  <thead>\n",
       "    <tr style=\"text-align: right;\">\n",
       "      <th></th>\n",
       "      <th>rating_category_cd</th>\n",
       "      <th>audience</th>\n",
       "      <th>nielsen_id</th>\n",
       "      <th>start_date</th>\n",
       "      <th>start_timestamp_day</th>\n",
       "      <th>qaid</th>\n",
       "      <th>feed_pattern_ind</th>\n",
       "      <th>viewers</th>\n",
       "      <th>gender</th>\n",
       "      <th>start_age</th>\n",
       "      <th>...</th>\n",
       "      <th>media_month_year</th>\n",
       "      <th>tv_usage</th>\n",
       "      <th>universe</th>\n",
       "      <th>rating</th>\n",
       "      <th>univ_rep</th>\n",
       "      <th>viewers_rep</th>\n",
       "      <th>tv_usage_rep</th>\n",
       "      <th>ww</th>\n",
       "      <th>media_month_id</th>\n",
       "      <th>network</th>\n",
       "    </tr>\n",
       "  </thead>\n",
       "  <tbody>\n",
       "    <tr>\n",
       "      <th>0</th>\n",
       "      <td>NIELSEN_NHI_CMIT_LIVE</td>\n",
       "      <td>M55-64</td>\n",
       "      <td>6526</td>\n",
       "      <td>1210422</td>\n",
       "      <td>2021-04-22 00:00:00.000</td>\n",
       "      <td>33</td>\n",
       "      <td>D</td>\n",
       "      <td>4864.0</td>\n",
       "      <td>M</td>\n",
       "      <td>55</td>\n",
       "      <td>...</td>\n",
       "      <td>421</td>\n",
       "      <td>2745667</td>\n",
       "      <td>14410000</td>\n",
       "      <td>0.000338</td>\n",
       "      <td>0</td>\n",
       "      <td>0</td>\n",
       "      <td>0</td>\n",
       "      <td>0</td>\n",
       "      <td>475</td>\n",
       "      <td>BRVO</td>\n",
       "    </tr>\n",
       "    <tr>\n",
       "      <th>1</th>\n",
       "      <td>NIELSEN_NHI_CMIT_LIVE</td>\n",
       "      <td>M65+</td>\n",
       "      <td>6526</td>\n",
       "      <td>1210420</td>\n",
       "      <td>2021-04-20 00:00:00.000</td>\n",
       "      <td>16</td>\n",
       "      <td>D</td>\n",
       "      <td>4495.0</td>\n",
       "      <td>M</td>\n",
       "      <td>65</td>\n",
       "      <td>...</td>\n",
       "      <td>421</td>\n",
       "      <td>4700106</td>\n",
       "      <td>19429000</td>\n",
       "      <td>0.000231</td>\n",
       "      <td>0</td>\n",
       "      <td>2</td>\n",
       "      <td>0</td>\n",
       "      <td>0</td>\n",
       "      <td>475</td>\n",
       "      <td>BRVO</td>\n",
       "    </tr>\n",
       "    <tr>\n",
       "      <th>2</th>\n",
       "      <td>NIELSEN_NHI_CMIT_LIVE</td>\n",
       "      <td>F50-54</td>\n",
       "      <td>6526</td>\n",
       "      <td>1210424</td>\n",
       "      <td>2021-04-24 00:00:00.000</td>\n",
       "      <td>43</td>\n",
       "      <td>D</td>\n",
       "      <td>6232.0</td>\n",
       "      <td>F</td>\n",
       "      <td>50</td>\n",
       "      <td>...</td>\n",
       "      <td>421</td>\n",
       "      <td>1812169</td>\n",
       "      <td>7331000</td>\n",
       "      <td>0.000850</td>\n",
       "      <td>0</td>\n",
       "      <td>0</td>\n",
       "      <td>0</td>\n",
       "      <td>0</td>\n",
       "      <td>475</td>\n",
       "      <td>BRVO</td>\n",
       "    </tr>\n",
       "    <tr>\n",
       "      <th>3</th>\n",
       "      <td>NIELSEN_NHI_CMIT_LIVE</td>\n",
       "      <td>M55-64</td>\n",
       "      <td>6526</td>\n",
       "      <td>1210423</td>\n",
       "      <td>2021-04-23 00:00:00.000</td>\n",
       "      <td>11</td>\n",
       "      <td>D</td>\n",
       "      <td>1809.0</td>\n",
       "      <td>M</td>\n",
       "      <td>55</td>\n",
       "      <td>...</td>\n",
       "      <td>421</td>\n",
       "      <td>2696210</td>\n",
       "      <td>14410000</td>\n",
       "      <td>0.000126</td>\n",
       "      <td>0</td>\n",
       "      <td>2</td>\n",
       "      <td>0</td>\n",
       "      <td>0</td>\n",
       "      <td>475</td>\n",
       "      <td>BRVO</td>\n",
       "    </tr>\n",
       "    <tr>\n",
       "      <th>4</th>\n",
       "      <td>NIELSEN_NHI_CMIT_LIVE</td>\n",
       "      <td>F50-54</td>\n",
       "      <td>6526</td>\n",
       "      <td>1210422</td>\n",
       "      <td>2021-04-22 00:00:00.000</td>\n",
       "      <td>35</td>\n",
       "      <td>D</td>\n",
       "      <td>9895.0</td>\n",
       "      <td>F</td>\n",
       "      <td>50</td>\n",
       "      <td>...</td>\n",
       "      <td>421</td>\n",
       "      <td>1252183</td>\n",
       "      <td>7331000</td>\n",
       "      <td>0.001350</td>\n",
       "      <td>0</td>\n",
       "      <td>0</td>\n",
       "      <td>0</td>\n",
       "      <td>0</td>\n",
       "      <td>475</td>\n",
       "      <td>BRVO</td>\n",
       "    </tr>\n",
       "  </tbody>\n",
       "</table>\n",
       "<p>5 rows × 23 columns</p>\n",
       "</div>"
      ],
      "text/plain": [
       "      rating_category_cd audience  nielsen_id  start_date  \\\n",
       "0  NIELSEN_NHI_CMIT_LIVE   M55-64        6526     1210422   \n",
       "1  NIELSEN_NHI_CMIT_LIVE     M65+        6526     1210420   \n",
       "2  NIELSEN_NHI_CMIT_LIVE   F50-54        6526     1210424   \n",
       "3  NIELSEN_NHI_CMIT_LIVE   M55-64        6526     1210423   \n",
       "4  NIELSEN_NHI_CMIT_LIVE   F50-54        6526     1210422   \n",
       "\n",
       "       start_timestamp_day  qaid feed_pattern_ind  viewers gender  start_age  \\\n",
       "0  2021-04-22 00:00:00.000    33                D   4864.0      M         55   \n",
       "1  2021-04-20 00:00:00.000    16                D   4495.0      M         65   \n",
       "2  2021-04-24 00:00:00.000    43                D   6232.0      F         50   \n",
       "3  2021-04-23 00:00:00.000    11                D   1809.0      M         55   \n",
       "4  2021-04-22 00:00:00.000    35                D   9895.0      F         50   \n",
       "\n",
       "   ...  media_month_year tv_usage  universe    rating  univ_rep  viewers_rep  \\\n",
       "0  ...               421  2745667  14410000  0.000338         0            0   \n",
       "1  ...               421  4700106  19429000  0.000231         0            2   \n",
       "2  ...               421  1812169   7331000  0.000850         0            0   \n",
       "3  ...               421  2696210  14410000  0.000126         0            2   \n",
       "4  ...               421  1252183   7331000  0.001350         0            0   \n",
       "\n",
       "   tv_usage_rep  ww  media_month_id  network  \n",
       "0             0   0             475     BRVO  \n",
       "1             0   0             475     BRVO  \n",
       "2             0   0             475     BRVO  \n",
       "3             0   0             475     BRVO  \n",
       "4             0   0             475     BRVO  \n",
       "\n",
       "[5 rows x 23 columns]"
      ]
     },
     "execution_count": 5,
     "metadata": {},
     "output_type": "execute_result"
    }
   ],
   "source": [
    "data = athena.query(q, profile_name='default', quiet=True)\n",
    "data"
   ]
  },
  {
   "cell_type": "markdown",
   "metadata": {},
   "source": [
    "For a real use case, keep track of which profile_name is needed for any given query."
   ]
  }
 ],
 "metadata": {
  "kernelspec": {
   "display_name": "Python 3",
   "language": "python",
   "name": "python3"
  },
  "language_info": {
   "codemirror_mode": {
    "name": "ipython",
    "version": 3
   },
   "file_extension": ".py",
   "mimetype": "text/x-python",
   "name": "python",
   "nbconvert_exporter": "python",
   "pygments_lexer": "ipython3",
   "version": "3.6.10"
  }
 },
 "nbformat": 4,
 "nbformat_minor": 4
}
